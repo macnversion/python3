{
 "cells": [
  {
   "cell_type": "code",
   "execution_count": 2,
   "metadata": {
    "collapsed": true
   },
   "outputs": [],
   "source": [
    "import numpy as np\n",
    "from numpy.random import randn"
   ]
  },
  {
   "cell_type": "code",
   "execution_count": 9,
   "metadata": {},
   "outputs": [
    {
     "name": "stdout",
     "output_type": "stream",
     "text": [
      "data\n",
      " [[-0.62619125 -1.38723384 -0.26647868]\n",
      " [ 1.61686532 -2.37367846  0.34181946]] \n",
      "\n",
      "data*10\n",
      " [[ -6.26191251 -13.8723384   -2.66478684]\n",
      " [ 16.16865318 -23.73678461   3.41819463]] \n",
      "\n",
      "shape of data is data.shape: (2, 3) \n",
      "\n",
      "type of dtaa is data.dtype: float64 \n",
      "\n"
     ]
    }
   ],
   "source": [
    "data = randn(2,3)\n",
    "print('data\\n',data, '\\n')\n",
    "print('data*10\\n', data*10, '\\n')\n",
    "print('shape of data is data.shape:', data.shape, '\\n')\n",
    "print('type of dtaa is data.dtype:', data.dtype, '\\n')"
   ]
  },
  {
   "cell_type": "code",
   "execution_count": 10,
   "metadata": {},
   "outputs": [
    {
     "data": {
      "text/plain": [
       "array([[1, 2, 3, 4],\n",
       "       [5, 6, 7, 8]])"
      ]
     },
     "execution_count": 10,
     "metadata": {},
     "output_type": "execute_result"
    }
   ],
   "source": [
    "data1 = [6, 7.5, 8, 0, 11]\n",
    "data2 = [[1,2,3,4], [5,6,7,8]]\n",
    "arr1 = np.array(data1)\n",
    "arr2 = np.array(data2)\n"
   ]
  },
  {
   "cell_type": "code",
   "execution_count": 12,
   "metadata": {},
   "outputs": [
    {
     "data": {
      "text/plain": [
       "array([ 0,  1,  2,  3,  4,  5,  6,  7,  8,  9, 10, 11, 12, 13, 14])"
      ]
     },
     "execution_count": 12,
     "metadata": {},
     "output_type": "execute_result"
    }
   ],
   "source": [
    "np.zeros(10)\n",
    "np.zeros([3,6])\n",
    "np.empty([2,3,2])\n",
    "np.arange(15)"
   ]
  },
  {
   "cell_type": "code",
   "execution_count": 15,
   "metadata": {},
   "outputs": [
    {
     "name": "stdout",
     "output_type": "stream",
     "text": [
      "int32 \n",
      "\n",
      "float64 \n",
      "\n"
     ]
    }
   ],
   "source": [
    "arr = np.array([1,2,3,4,5])\n",
    "print(arr.dtype, '\\n')\n",
    "float_arr = arr.astype(np.float64)\n",
    "print(float_arr.dtype, '\\n')"
   ]
  },
  {
   "cell_type": "code",
   "execution_count": 22,
   "metadata": {},
   "outputs": [
    {
     "name": "stdout",
     "output_type": "stream",
     "text": [
      "arr=\n",
      " [[1 2 3]\n",
      " [4 5 6]] \n",
      "\n",
      "arr*arr=\n",
      " [[ 1  4  9]\n",
      " [16 25 36]] \n",
      "\n"
     ]
    },
    {
     "data": {
      "text/plain": [
       "array([0, 1, 2, 3, 4, 5, 6, 7, 8, 9])"
      ]
     },
     "execution_count": 22,
     "metadata": {},
     "output_type": "execute_result"
    }
   ],
   "source": [
    "arr = np.array([[1,2,3], [4,5,6]])\n",
    "print('arr=\\n', arr, '\\n')\n",
    "print('arr*arr=\\n', arr*arr, '\\n')\n",
    "\n",
    "arr = np.arange(10)\n",
    "arr"
   ]
  },
  {
   "cell_type": "code",
   "execution_count": 27,
   "metadata": {},
   "outputs": [
    {
     "data": {
      "text/plain": [
       "array([[[42, 42, 42],\n",
       "        [42, 42, 42]],\n",
       "\n",
       "       [[ 7,  8,  9],\n",
       "        [10, 11, 12]]])"
      ]
     },
     "execution_count": 27,
     "metadata": {},
     "output_type": "execute_result"
    }
   ],
   "source": [
    "array3d = np.array([[[1,2,3], [4,5,6]], [[7,8,9], [10,11,12]]])\n",
    "array3d[0]\n",
    "\n",
    "old_values = array3d[0].copy()\n",
    "array3d[0] = 42\n",
    "array3d"
   ]
  },
  {
   "cell_type": "code",
   "execution_count": 35,
   "metadata": {},
   "outputs": [
    {
     "name": "stdout",
     "output_type": "stream",
     "text": [
      "arr=\n",
      " [[ 0  1  2  3]\n",
      " [ 4  5  6  7]\n",
      " [ 8  9 10 11]\n",
      " [12 13 14 15]\n",
      " [16 17 18 19]\n",
      " [20 21 22 23]\n",
      " [24 25 26 27]\n",
      " [28 29 30 31]] \n",
      "\n"
     ]
    },
    {
     "data": {
      "text/plain": [
       "array([[ 4,  5,  6,  7],\n",
       "       [20, 21, 22, 23],\n",
       "       [28, 29, 30, 31],\n",
       "       [ 8,  9, 10, 11]])"
      ]
     },
     "execution_count": 35,
     "metadata": {},
     "output_type": "execute_result"
    }
   ],
   "source": [
    "arr = np.arange(32).reshape(8,4)\n",
    "print('arr=\\n', arr, '\\n')\n",
    "arr[[1,5,7,2]]"
   ]
  },
  {
   "cell_type": "code",
   "execution_count": 44,
   "metadata": {},
   "outputs": [
    {
     "name": "stdout",
     "output_type": "stream",
     "text": [
      "[ 0.41623594 -0.21050181 -0.47025548  0.87661348  0.7743945  -0.82679884\n",
      "  0.53673356]\n",
      "[ 7. -5. -3.  2.  0. -2.  5.]\n"
     ]
    }
   ],
   "source": [
    "arr = np.random.randn(7)*5\n",
    "remainder, whole_part = np.modf(arr)\n",
    "print(remainder)\n",
    "print(whole_part)"
   ]
  },
  {
   "cell_type": "code",
   "execution_count": 46,
   "metadata": {},
   "outputs": [
    {
     "name": "stdout",
     "output_type": "stream",
     "text": [
      "x= [ 0.    0.25  0.5   0.75  1.  ]\n",
      "y= [ 0.   0.5  1. ]\n",
      "X= [[ 0.    0.25  0.5   0.75  1.  ]\n",
      " [ 0.    0.25  0.5   0.75  1.  ]\n",
      " [ 0.    0.25  0.5   0.75  1.  ]]\n",
      "Y= [[ 0.   0.   0.   0.   0. ]\n",
      " [ 0.5  0.5  0.5  0.5  0.5]\n",
      " [ 1.   1.   1.   1.   1. ]]\n",
      "[array([[ 0.  ,  0.25,  0.5 ,  0.75,  1.  ],\n",
      "       [ 0.  ,  0.25,  0.5 ,  0.75,  1.  ],\n",
      "       [ 0.  ,  0.25,  0.5 ,  0.75,  1.  ]]), array([[ 0. ,  0. ,  0. ,  0. ,  0. ],\n",
      "       [ 0.5,  0.5,  0.5,  0.5,  0.5],\n",
      "       [ 1. ,  1. ,  1. ,  1. ,  1. ]])]\n"
     ]
    }
   ],
   "source": [
    "m, n = (5,3)\n",
    "x = np.linspace(0, 1, m)\n",
    "y = np.linspace(0, 1, n)\n",
    "print('x=', x)\n",
    "print('y=', y)\n",
    "\n",
    "X, Y = np.meshgrid(x, y)\n",
    "print('X=', X)\n",
    "print('Y=', Y)"
   ]
  },
  {
   "cell_type": "code",
   "execution_count": 57,
   "metadata": {},
   "outputs": [
    {
     "name": "stdout",
     "output_type": "stream",
     "text": [
      "[(0.0, 0.0), (0.25, 0.0), (0.5, 0.0), (0.75, 0.0), (1.0, 0.0), (0.0, 0.5), (0.25, 0.5), (0.5, 0.5), (0.75, 0.5), (1.0, 0.5), (0.0, 1.0), (0.25, 1.0), (0.5, 1.0), (0.75, 1.0), (1.0, 1.0)]\n"
     ]
    },
    {
     "data": {
      "text/plain": [
       "array([[ 7.07106781,  7.06400028,  7.05693985, ...,  7.04988652,\n",
       "         7.05693985,  7.06400028],\n",
       "       [ 7.06400028,  7.05692568,  7.04985815, ...,  7.04279774,\n",
       "         7.04985815,  7.05692568],\n",
       "       [ 7.05693985,  7.04985815,  7.04278354, ...,  7.03571603,\n",
       "         7.04278354,  7.04985815],\n",
       "       ..., \n",
       "       [ 7.04988652,  7.04279774,  7.03571603, ...,  7.0286414 ,\n",
       "         7.03571603,  7.04279774],\n",
       "       [ 7.05693985,  7.04985815,  7.04278354, ...,  7.03571603,\n",
       "         7.04278354,  7.04985815],\n",
       "       [ 7.06400028,  7.05692568,  7.04985815, ...,  7.04279774,\n",
       "         7.04985815,  7.05692568]])"
      ]
     },
     "execution_count": 57,
     "metadata": {},
     "output_type": "execute_result"
    },
    {
     "data": {
      "image/png": "[encoded data removed]",
      "text/plain": [
       "<matplotlib.figure.Figure at 0x8648f28>"
      ]
     },
     "metadata": {},
     "output_type": "display_data"
    }
   ],
   "source": [
    "import matplotlib.pyplot as plt\n",
    "%matplotlib inline\n",
    "plt.style.use('ggplot')\n",
    "# 注意颜色参数是color\n",
    "plt.plot(X, Y, marker='.', color='blue', linestyle='none')\n",
    "\n",
    "# 可以通过zip获取全部点的坐标\n",
    "z = [i for i in zip(X.flat, Y.flat)]\n",
    "print(z)"
   ]
  },
  {
   "cell_type": "code",
   "execution_count": 59,
   "metadata": {},
   "outputs": [
    {
     "data": {
      "text/plain": [
       "<matplotlib.text.Text at 0x8feabe0>"
      ]
     },
     "execution_count": 59,
     "metadata": {},
     "output_type": "execute_result"
    },
    {
     "data": {
      "image/png": "[encoded data removed]",
      "text/plain": [
       "<matplotlib.figure.Figure at 0x9f79f98>"
      ]
     },
     "metadata": {},
     "output_type": "display_data"
    }
   ],
   "source": [
    "points = np.arange(-5, 5, 0.01)\n",
    "xs, ys = np.meshgrid(points, points)\n",
    "z = np.sqrt(xs**2 + ys**2)\n",
    "plt.imshow(z, cmap=plt.cm.gray)\n",
    "plt.colorbar()\n",
    "plt.title('Image plot of sqrt(x^2+y^2) for a grid values')"
   ]
  },
  {
   "cell_type": "code",
   "execution_count": 61,
   "metadata": {},
   "outputs": [
    {
     "name": "stdout",
     "output_type": "stream",
     "text": [
      "arr=\n",
      " [[-0.06760954  0.25994516 -0.17350994  0.58076977]\n",
      " [-0.60651842  1.37457672 -1.50654627 -1.22113099]\n",
      " [ 0.55096099  0.57473828  0.57542935 -0.37208856]\n",
      " [ 0.42544779  0.18247646 -0.56067931 -0.75417842]\n",
      " [-0.54391429  0.8259008   0.68914962  1.09965148]] \n",
      "\n"
     ]
    },
    {
     "data": {
      "text/plain": [
       "array([-0.04832669,  0.64352748, -0.19523131, -0.13339534])"
      ]
     },
     "execution_count": 61,
     "metadata": {},
     "output_type": "execute_result"
    }
   ],
   "source": [
    "# 数学和统计方法\n",
    "arr = np.random.randn(5,4)\n",
    "print('arr=\\n', arr, '\\n')\n",
    "\n",
    "arr.mean(0)"
   ]
  },
  {
   "cell_type": "code",
   "execution_count": null,
   "metadata": {
    "collapsed": true
   },
   "outputs": [],
   "source": []
  }
 ],
 "metadata": {
  "kernelspec": {
   "display_name": "Python 3",
   "language": "python",
   "name": "python3"
  },
  "language_info": {
   "codemirror_mode": {
    "name": "ipython",
    "version": 3
   },
   "file_extension": ".py",
   "mimetype": "text/x-python",
   "name": "python",
   "nbconvert_exporter": "python",
   "pygments_lexer": "ipython3",
   "version": "3.6.1"
  }
 },
 "nbformat": 4,
 "nbformat_minor": 2
}
