{
 "cells": [
  {
   "cell_type": "code",
   "execution_count": 18,
   "metadata": {
    "collapsed": true
   },
   "outputs": [],
   "source": [
    "import pandas as pd\n",
    "import numpy as np\n",
    "from pandas import DataFrame, Series\n",
    "import os\n",
    "import matplotlib.pyplot as plt"
   ]
  },
  {
   "cell_type": "code",
   "execution_count": 22,
   "metadata": {},
   "outputs": [],
   "source": [
    "# 数组的属性\n",
    "np.random.seed(0)\n",
    "x1 = np.random.randint(10, size=3) # 一维数组\n",
    "x2 = np.random.randint(10, size=(4,3))\n",
    "x3 = np.random.randint(10, size=(4,5,5))"
   ]
  },
  {
   "cell_type": "code",
   "execution_count": 23,
   "metadata": {},
   "outputs": [
    {
     "data": {
      "text/plain": [
       "array([[3, 7, 9],\n       [3, 5, 2],\n       [4, 7, 6],\n       [8, 8, 1],\n       [3, 7, 9],\n       [3, 5, 2],\n       [4, 7, 6],\n       [8, 8, 1]])"
      ]
     },
     "execution_count": 23,
     "metadata": {},
     "output_type": "execute_result"
    }
   ],
   "source": [
    "# 数组的拼接\n",
    "np.concatenate([x1, x1])\n",
    "np.concatenate([x2, x2])"
   ]
  },
  {
   "cell_type": "code",
   "execution_count": 6,
   "metadata": {},
   "outputs": [
    {
     "name": "stdout",
     "output_type": "stream",
     "text": [
      "209 ms ± 35.6 ms per loop (mean ± std. dev. of 7 runs, 1 loop each)\n"
     ]
    }
   ],
   "source": [
    "np.random.seed(0)\n",
    "def compute_reciprocals(values):\n",
    "    output = np.empty(len(values))\n",
    "    for i in range(len(values)):\n",
    "        output[i] = 1.0/values[i]\n",
    "    return output\n",
    "\n",
    "values = np.random.randint(1, 10, size=5)\n",
    "compute_reciprocals(values)\n",
    "big_array = np.random.randint(1,100,size=100000)\n",
    "%timeit compute_reciprocals(big_array)"
   ]
  },
  {
   "cell_type": "code",
   "execution_count": 16,
   "metadata": {},
   "outputs": [
    {
     "name": "stdout",
     "output_type": "stream",
     "text": [
      "[ 0. 10. 20. 30. 40. 50. 60. 70. 80. 90.]\n[  1   1   2   3   4   5   8   7  16   9  32  11  64  13 128  15 256  17\n 512  19]\n"
     ]
    },
    {
     "data": {
      "text/plain": [
       "array([[ 0,  0,  0,  0,  0,  0,  0,  0,  0,  0],\n       [ 0,  1,  2,  3,  4,  5,  6,  7,  8,  9],\n       [ 0,  2,  4,  6,  8, 10, 12, 14, 16, 18],\n       [ 0,  3,  6,  9, 12, 15, 18, 21, 24, 27],\n       [ 0,  4,  8, 12, 16, 20, 24, 28, 32, 36],\n       [ 0,  5, 10, 15, 20, 25, 30, 35, 40, 45],\n       [ 0,  6, 12, 18, 24, 30, 36, 42, 48, 54],\n       [ 0,  7, 14, 21, 28, 35, 42, 49, 56, 63],\n       [ 0,  8, 16, 24, 32, 40, 48, 56, 64, 72],\n       [ 0,  9, 18, 27, 36, 45, 54, 63, 72, 81]])"
      ]
     },
     "execution_count": 16,
     "metadata": {},
     "output_type": "execute_result"
    }
   ],
   "source": [
    "# 高级通用特性函数\n",
    "x = np.arange(10)\n",
    "y = np.empty(10)\n",
    "np.multiply(x, 10, out=y)\n",
    "print(y)\n",
    "\n",
    "y1 = np.arange(20)\n",
    "np.power(2, x, out=y1[::2])\n",
    "print(y1)\n",
    "\n",
    "np.add.reduce(x)\n",
    "np.add.accumulate(x)\n",
    "np.multiply.outer(x, x)"
   ]
  },
  {
   "cell_type": "code",
   "execution_count": 8,
   "metadata": {
    "collapsed": true
   },
   "outputs": [
    {
     "name": "stdout",
     "output_type": "stream",
     "text": [
      "[[0.19042301 0.42646069 0.94185979 0.02082399]\n [0.57707129 0.96204145 0.95895488 0.83369279]\n [0.14098799 0.07059576 0.61219546 0.18624152]]\nM.min= [0.02082399 0.57707129 0.07059576]\n"
     ]
    }
   ],
   "source": [
    "# 多维度聚合\n",
    "M = np.random.random((3,4))\n",
    "print(M)\n",
    "print('M.min=', M.min(axis=1))"
   ]
  },
  {
   "cell_type": "code",
   "execution_count": 16,
   "metadata": {
    "collapsed": false
   },
   "outputs": [
    {
     "name": "stdout",
     "output_type": "stream",
     "text": [
      "mean heights: 179.73809523809524\nstandard deviation: 6.931843442745892\nmin height: 163\nmax height: 193\n"
     ]
    }
   ],
   "source": [
    "# 美国总统的平均身高的计算\n",
    "# 数据位置/dataset/python数据科学手册/president_heights.csv\n",
    "data = pd.read_csv('./codespace/python3/dataset/python数据科学手册/president_heights.csv')\n",
    "data.columns\n",
    "\n",
    "heights = np.array(data['height(cm)'])\n",
    "print('mean heights:', heights.mean())\n",
    "print('standard deviation:', heights.std())\n",
    "print('min height:', heights.min())\n",
    "print('max height:', heights.max())"
   ]
  },
  {
   "cell_type": "code",
   "execution_count": 37,
   "metadata": {},
   "outputs": [
    {
     "data": {
      "text/plain": [
       "'/Users/machuan'"
      ]
     },
     "execution_count": 37,
     "metadata": {},
     "output_type": "execute_result"
    }
   ],
   "source": [
    ""
   ]
  },
  {
   "cell_type": "code",
   "execution_count": null,
   "metadata": {},
   "outputs": [],
   "source": []
  }
 ],
 "metadata": {
  "kernelspec": {
   "display_name": "Python 2",
   "language": "python",
   "name": "python2"
  },
  "language_info": {
   "codemirror_mode": {
    "name": "ipython",
    "version": 2
   },
   "file_extension": ".py",
   "mimetype": "text/x-python",
   "name": "python",
   "nbconvert_exporter": "python",
   "pygments_lexer": "ipython2",
   "version": "2.7.6"
  }
 },
 "nbformat": 4,
 "nbformat_minor": 0
}
