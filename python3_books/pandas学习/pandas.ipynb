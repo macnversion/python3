{
 "cells": [
  {
   "cell_type": "code",
   "execution_count": 3,
   "metadata": {
    "collapsed": true
   },
   "outputs": [],
   "source": [
    "import pandas as pd\n",
    "import numpy as np\n",
    "from pandas import DataFrame, Series"
   ]
  },
  {
   "cell_type": "code",
   "execution_count": 9,
   "metadata": {},
   "outputs": [
    {
     "name": "stdout",
     "output_type": "stream",
     "text": [
      "x3 ndim: 3\nx3 shape: (3, 4, 5)\nx3 size: 60\nx3 dtype: int64\n"
     ]
    }
   ],
   "source": [
    "# 数组的属性\n",
    "np.random.seed(0)\n",
    "x1 = np.random.randint(10, size=6) # 一维数组\n",
    "x2 = np.random.randint(10, size=(3,4))\n",
    "x3 = np.random.randint(10, size=(3,4,5))\n",
    "grid = np.arange(1, 10).reshape(3,3)\n",
    "\n",
    "print('x3 ndim:', x3.ndim)\n",
    "print('x3 shape:', x3.shape)\n",
    "print('x3 size:', x3.size)\n",
    "print('x3 dtype:', x3.dtype)"
   ]
  },
  {
   "cell_type": "code",
   "execution_count": 18,
   "metadata": {},
   "outputs": [
    {
     "name": "stdout",
     "output_type": "stream",
     "text": [
      "1维数组拼接： [1 2 3 3 2 1]\n\n2维数组拼接:\n [[0 1 2]\n [3 4 5]\n [0 1 2]\n [3 4 5]]\n"
     ]
    }
   ],
   "source": [
    "# 数组的拼接\n",
    "x = np.array([1,2,3])\n",
    "y = np.array([3,2,1])\n",
    "grid = np.arange(0,6).reshape(2,3)\n",
    "\n",
    "print('1维数组拼接：' ,np.concatenate([x, y]))\n",
    "print('\\n2维数组拼接:\\n', np.concatenate([grid, grid]))"
   ]
  },
  {
   "cell_type": "code",
   "execution_count": null,
   "metadata": {},
   "outputs": [],
   "source": [
    "# 数组的分裂\n"
   ]
  }
 ],
 "metadata": {
  "kernelspec": {
   "display_name": "Python 2",
   "language": "python",
   "name": "python2"
  },
  "language_info": {
   "codemirror_mode": {
    "name": "ipython",
    "version": 2
   },
   "file_extension": ".py",
   "mimetype": "text/x-python",
   "name": "python",
   "nbconvert_exporter": "python",
   "pygments_lexer": "ipython2",
   "version": "2.7.6"
  }
 },
 "nbformat": 4,
 "nbformat_minor": 0
}
