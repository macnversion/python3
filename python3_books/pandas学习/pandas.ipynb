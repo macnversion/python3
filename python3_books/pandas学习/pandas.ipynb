{
 "cells": [
  {
   "cell_type": "code",
   "execution_count": 29,
   "metadata": {
    "collapsed": true
   },
   "outputs": [],
   "source": [
    "import pandas as pd\n",
    "import numpy as np\n",
    "from pandas import DataFrame, Series"
   ]
  },
  {
   "cell_type": "code",
   "execution_count": 27,
   "metadata": {},
   "outputs": [
    {
     "name": "stdout",
     "output_type": "stream",
     "text": [
      "x3 ndim: 3\nx3 shape: (3, 4, 5)\nx3 size: 60\nx3 dtype: int64\n"
     ]
    }
   ],
   "source": [
    "# 数组的属性\n",
    "np.random.seed(0)\n",
    "x1 = np.random.randint(10, size=6) # 一维数组\n",
    "x2 = np.random.randint(10, size=(3,4))\n",
    "x3 = np.random.randint(10, size=(3,4,5))\n",
    "\n",
    "print('x3 ndim:', x3.ndim)\n",
    "print('x3 shape:', x3.shape)\n",
    "print('x3 size:', x3.size)\n",
    "print('x3 dtype:', x3.dtype)"
   ]
  },
  {
   "cell_type": "code",
   "execution_count": null,
   "metadata": {},
   "outputs": [],
   "source": []
  }
 ],
 "metadata": {
  "kernelspec": {
   "display_name": "Python 2",
   "language": "python",
   "name": "python2"
  },
  "language_info": {
   "codemirror_mode": {
    "name": "ipython",
    "version": 2
   },
   "file_extension": ".py",
   "mimetype": "text/x-python",
   "name": "python",
   "nbconvert_exporter": "python",
   "pygments_lexer": "ipython2",
   "version": "2.7.6"
  }
 },
 "nbformat": 4,
 "nbformat_minor": 0
}
